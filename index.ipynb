{
 "cells": [
  {
   "cell_type": "markdown",
   "metadata": {},
   "source": [
    "# Fitting a Logistic Regression Model - Lab\n",
    "\n",
    "## Introduction\n",
    "You were previously given a broad overview of logistic regression. This included two separate packages for creating logistic regression models. In this lab, you'll be investigating fitting logistic regressions with statsmodels.\n",
    "\n",
    "\n",
    "\n",
    "## Objectives\n",
    "\n",
    "You will be able to:\n",
    "* Implement logistic regression with statsmodels\n",
    "* Interpret the statistical results associated with regression model parameters\n"
   ]
  },
  {
   "cell_type": "markdown",
   "metadata": {},
   "source": [
    "## Review\n",
    "\n",
    "The stats model example we covered had four essential parts:\n",
    "* Importing the data\n",
    "* Defining X and y\n",
    "* Fitting the model\n",
    "* Analyzing model results\n",
    "\n",
    "The corresponding code to these four steps was:\n",
    "\n",
    "```\n",
    "import pandas as pd\n",
    "import statsmodels.api as sm\n",
    "\n",
    "#Step 1: Importing the data\n",
    "salaries = pd.read_csv(\"salaries_final.csv\", index_col = 0)\n",
    "\n",
    "#Step 2: Defining X and y\n",
    "x_feats = [\"Race\", \"Sex\", \"Age\"]\n",
    "X = pd.get_dummies(salaries[x_feats], drop_first=True, dtype=float)\n",
    "y = pd.get_dummies(salaries[\"Target\"], dtype=float)\n",
    "\n",
    "#Step 3: Fitting the model\n",
    "X = sm.add_constant(X)\n",
    "logit_model = sm.Logit(y.iloc[:,1], X)\n",
    "result = logit_model.fit()\n",
    "\n",
    "#Step 4: Analyzing model results\n",
    "result.summary()\n",
    "```\n",
    "\n",
    "Most of this should be fairly familiar to you; importing data with Pandas, initializing a regression object, and calling the fit method of that object. However, step 2 warrants a slightly more in depth explanation.\n",
    "\n",
    "Recall that we fit the salary data using `Race`, `Sex`, and `Age`. Since `Race` and `Sex` are categorical, we converted them to dummy variables using the `get_dummies()` method. The ```get_dummies()``` method will only convert `object` and `category` data types to dummy variables so it is safe to pass `Age`. Note that we also passed two additional arguments, ```drop_first=True``` and ```dtype=float```. The ```drop_first=True``` argument removes the first level for each categorical variable and the ```dtype=float``` argument converts the data type of all of the dummy variables to float. The data must be float in order to obtain accurate statistical results from statsmodel. Finally, note that y itself returns a pandas DataFrame with two columns as y itself was originally a categorical variable. With that, it's time to try and define a logistic regression model on your own!"
   ]
  },
  {
   "cell_type": "markdown",
   "metadata": {},
   "source": [
    "## Your Turn - Step 1: Import the Data\n",
    "\n",
    "Import the data stored in the file **titanic.csv**."
   ]
  },
  {
   "cell_type": "code",
   "execution_count": 2,
   "metadata": {},
   "outputs": [
    {
     "data": {
      "text/html": [
       "<div>\n",
       "<style scoped>\n",
       "    .dataframe tbody tr th:only-of-type {\n",
       "        vertical-align: middle;\n",
       "    }\n",
       "\n",
       "    .dataframe tbody tr th {\n",
       "        vertical-align: top;\n",
       "    }\n",
       "\n",
       "    .dataframe thead th {\n",
       "        text-align: right;\n",
       "    }\n",
       "</style>\n",
       "<table border=\"1\" class=\"dataframe\">\n",
       "  <thead>\n",
       "    <tr style=\"text-align: right;\">\n",
       "      <th></th>\n",
       "      <th>PassengerId</th>\n",
       "      <th>Survived</th>\n",
       "      <th>Pclass</th>\n",
       "      <th>Name</th>\n",
       "      <th>Sex</th>\n",
       "      <th>Age</th>\n",
       "      <th>SibSp</th>\n",
       "      <th>Parch</th>\n",
       "      <th>Ticket</th>\n",
       "      <th>Fare</th>\n",
       "      <th>Cabin</th>\n",
       "      <th>Embarked</th>\n",
       "    </tr>\n",
       "  </thead>\n",
       "  <tbody>\n",
       "    <tr>\n",
       "      <th>0</th>\n",
       "      <td>1</td>\n",
       "      <td>0</td>\n",
       "      <td>3</td>\n",
       "      <td>Braund, Mr. Owen Harris</td>\n",
       "      <td>male</td>\n",
       "      <td>22.0</td>\n",
       "      <td>1</td>\n",
       "      <td>0</td>\n",
       "      <td>A/5 21171</td>\n",
       "      <td>7.2500</td>\n",
       "      <td>NaN</td>\n",
       "      <td>S</td>\n",
       "    </tr>\n",
       "    <tr>\n",
       "      <th>1</th>\n",
       "      <td>2</td>\n",
       "      <td>1</td>\n",
       "      <td>1</td>\n",
       "      <td>Cumings, Mrs. John Bradley (Florence Briggs Th...</td>\n",
       "      <td>female</td>\n",
       "      <td>38.0</td>\n",
       "      <td>1</td>\n",
       "      <td>0</td>\n",
       "      <td>PC 17599</td>\n",
       "      <td>71.2833</td>\n",
       "      <td>C85</td>\n",
       "      <td>C</td>\n",
       "    </tr>\n",
       "    <tr>\n",
       "      <th>2</th>\n",
       "      <td>3</td>\n",
       "      <td>1</td>\n",
       "      <td>3</td>\n",
       "      <td>Heikkinen, Miss. Laina</td>\n",
       "      <td>female</td>\n",
       "      <td>26.0</td>\n",
       "      <td>0</td>\n",
       "      <td>0</td>\n",
       "      <td>STON/O2. 3101282</td>\n",
       "      <td>7.9250</td>\n",
       "      <td>NaN</td>\n",
       "      <td>S</td>\n",
       "    </tr>\n",
       "    <tr>\n",
       "      <th>3</th>\n",
       "      <td>4</td>\n",
       "      <td>1</td>\n",
       "      <td>1</td>\n",
       "      <td>Futrelle, Mrs. Jacques Heath (Lily May Peel)</td>\n",
       "      <td>female</td>\n",
       "      <td>35.0</td>\n",
       "      <td>1</td>\n",
       "      <td>0</td>\n",
       "      <td>113803</td>\n",
       "      <td>53.1000</td>\n",
       "      <td>C123</td>\n",
       "      <td>S</td>\n",
       "    </tr>\n",
       "    <tr>\n",
       "      <th>4</th>\n",
       "      <td>5</td>\n",
       "      <td>0</td>\n",
       "      <td>3</td>\n",
       "      <td>Allen, Mr. William Henry</td>\n",
       "      <td>male</td>\n",
       "      <td>35.0</td>\n",
       "      <td>0</td>\n",
       "      <td>0</td>\n",
       "      <td>373450</td>\n",
       "      <td>8.0500</td>\n",
       "      <td>NaN</td>\n",
       "      <td>S</td>\n",
       "    </tr>\n",
       "  </tbody>\n",
       "</table>\n",
       "</div>"
      ],
      "text/plain": [
       "   PassengerId  Survived  Pclass  \\\n",
       "0            1         0       3   \n",
       "1            2         1       1   \n",
       "2            3         1       3   \n",
       "3            4         1       1   \n",
       "4            5         0       3   \n",
       "\n",
       "                                                Name     Sex   Age  SibSp  \\\n",
       "0                            Braund, Mr. Owen Harris    male  22.0      1   \n",
       "1  Cumings, Mrs. John Bradley (Florence Briggs Th...  female  38.0      1   \n",
       "2                             Heikkinen, Miss. Laina  female  26.0      0   \n",
       "3       Futrelle, Mrs. Jacques Heath (Lily May Peel)  female  35.0      1   \n",
       "4                           Allen, Mr. William Henry    male  35.0      0   \n",
       "\n",
       "   Parch            Ticket     Fare Cabin Embarked  \n",
       "0      0         A/5 21171   7.2500   NaN        S  \n",
       "1      0          PC 17599  71.2833   C85        C  \n",
       "2      0  STON/O2. 3101282   7.9250   NaN        S  \n",
       "3      0            113803  53.1000  C123        S  \n",
       "4      0            373450   8.0500   NaN        S  "
      ]
     },
     "execution_count": 2,
     "metadata": {},
     "output_type": "execute_result"
    }
   ],
   "source": [
    "# Import data\n",
    "import pandas as pd\n",
    "import statsmodels.api as sm\n",
    "\n",
    "df = pd.read_csv(\"titanic.csv\")\n",
    "df.head()"
   ]
  },
  {
   "cell_type": "markdown",
   "metadata": {},
   "source": [
    "## Step 2: Define X and Y\n",
    "\n",
    "For your first foray into logistic regression, you are going to attempt to build a model that classifies whether an individual survived the Titanic shipwreck or not (yes it's a bit morbid). Follow the programming patterns described above to define X and y."
   ]
  },
  {
   "cell_type": "code",
   "execution_count": 3,
   "metadata": {},
   "outputs": [],
   "source": [
    "# define X and y\n",
    "x_feats = [\"Pclass\", \"Sex\", \"Age\", \"SibSp\",\"Fare\", \"Embarked\"]\n",
    "X = pd.get_dummies(df[x_feats], drop_first=True, dtype=float)\n",
    "y = df[\"Survived\"].astype(float)\n",
    "\n",
    "X = X.dropna()\n",
    "y = y[y.index.isin(X.index)]"
   ]
  },
  {
   "cell_type": "markdown",
   "metadata": {},
   "source": [
    "## Step 3: Fit the model\n",
    "\n",
    "Now with everything in place, initialize a regression object and fit your model!\n",
    "\n",
    "### Warning: If you receive an error of the form \"LinAlgError: Singular matrix\"\n",
    "\n",
    "Stats models was unable to fit the model due to some Linear Algebra problems. Specifically, the matrix was not invertible due to not being full rank. In layman's terms, there was a lot of redundant, superfluous data. Try removing some features from the model and running it again."
   ]
  },
  {
   "cell_type": "code",
   "execution_count": 5,
   "metadata": {},
   "outputs": [
    {
     "name": "stdout",
     "output_type": "stream",
     "text": [
      "Optimization terminated successfully.\n",
      "         Current function value: 0.443267\n",
      "         Iterations 6\n"
     ]
    }
   ],
   "source": [
    "# fit the model\n",
    "X = sm.add_constant(X)\n",
    "logit_model = sm.Logit(y, X)\n",
    "result = logit_model.fit()"
   ]
  },
  {
   "cell_type": "markdown",
   "metadata": {},
   "source": [
    "## Step 4: Analyzing results\n",
    "\n",
    "Generate the summary table for your model. Then, comment on the p-values associated with the various features you chose."
   ]
  },
  {
   "cell_type": "code",
   "execution_count": 8,
   "metadata": {},
   "outputs": [
    {
     "data": {
      "text/html": [
       "<table class=\"simpletable\">\n",
       "<tr>\n",
       "        <td>Model:</td>              <td>Logit</td>       <td>No. Iterations:</td>   <td>6.0000</td> \n",
       "</tr>\n",
       "<tr>\n",
       "  <td>Dependent Variable:</td>     <td>Survived</td>     <td>Pseudo R-squared:</td>   <td>0.344</td> \n",
       "</tr>\n",
       "<tr>\n",
       "         <td>Date:</td>        <td>2019-09-21 23:57</td>       <td>AIC:</td>        <td>648.9846</td>\n",
       "</tr>\n",
       "<tr>\n",
       "   <td>No. Observations:</td>         <td>714</td>             <td>BIC:</td>        <td>685.5517</td>\n",
       "</tr>\n",
       "<tr>\n",
       "       <td>Df Model:</td>              <td>7</td>         <td>Log-Likelihood:</td>   <td>-316.49</td>\n",
       "</tr>\n",
       "<tr>\n",
       "     <td>Df Residuals:</td>           <td>706</td>           <td>LL-Null:</td>       <td>-482.26</td>\n",
       "</tr>\n",
       "<tr>\n",
       "      <td>Converged:</td>           <td>1.0000</td>           <td>Scale:</td>        <td>1.0000</td> \n",
       "</tr>\n",
       "</table>\n",
       "<table class=\"simpletable\">\n",
       "<tr>\n",
       "       <td></td>       <th>Coef.</th>  <th>Std.Err.</th>     <th>z</th>     <th>P>|z|</th> <th>[0.025</th>  <th>0.975]</th> \n",
       "</tr>\n",
       "<tr>\n",
       "  <th>const</th>      <td>5.6503</td>   <td>0.6334</td>   <td>8.9206</td>  <td>0.0000</td> <td>4.4088</td>  <td>6.8917</td> \n",
       "</tr>\n",
       "<tr>\n",
       "  <th>Pclass</th>     <td>-1.2118</td>  <td>0.1630</td>   <td>-7.4329</td> <td>0.0000</td> <td>-1.5313</td> <td>-0.8922</td>\n",
       "</tr>\n",
       "<tr>\n",
       "  <th>Age</th>        <td>-0.0431</td>  <td>0.0082</td>   <td>-5.2505</td> <td>0.0000</td> <td>-0.0592</td> <td>-0.0270</td>\n",
       "</tr>\n",
       "<tr>\n",
       "  <th>SibSp</th>      <td>-0.3806</td>  <td>0.1249</td>   <td>-3.0478</td> <td>0.0023</td> <td>-0.6253</td> <td>-0.1358</td>\n",
       "</tr>\n",
       "<tr>\n",
       "  <th>Fare</th>       <td>0.0012</td>   <td>0.0024</td>   <td>0.4737</td>  <td>0.6357</td> <td>-0.0036</td> <td>0.0059</td> \n",
       "</tr>\n",
       "<tr>\n",
       "  <th>Sex_male</th>   <td>-2.6236</td>  <td>0.2172</td>  <td>-12.0812</td> <td>0.0000</td> <td>-3.0493</td> <td>-2.1980</td>\n",
       "</tr>\n",
       "<tr>\n",
       "  <th>Embarked_Q</th> <td>-0.8260</td>  <td>0.5982</td>   <td>-1.3807</td> <td>0.1674</td> <td>-1.9985</td> <td>0.3465</td> \n",
       "</tr>\n",
       "<tr>\n",
       "  <th>Embarked_S</th> <td>-0.4130</td>  <td>0.2695</td>   <td>-1.5325</td> <td>0.1254</td> <td>-0.9412</td> <td>0.1152</td> \n",
       "</tr>\n",
       "</table>"
      ],
      "text/plain": [
       "<class 'statsmodels.iolib.summary2.Summary'>\n",
       "\"\"\"\n",
       "                        Results: Logit\n",
       "===============================================================\n",
       "Model:              Logit            No. Iterations:   6.0000  \n",
       "Dependent Variable: Survived         Pseudo R-squared: 0.344   \n",
       "Date:               2019-09-21 23:57 AIC:              648.9846\n",
       "No. Observations:   714              BIC:              685.5517\n",
       "Df Model:           7                Log-Likelihood:   -316.49 \n",
       "Df Residuals:       706              LL-Null:          -482.26 \n",
       "Converged:          1.0000           Scale:            1.0000  \n",
       "---------------------------------------------------------------\n",
       "                Coef.  Std.Err.    z     P>|z|   [0.025  0.975]\n",
       "---------------------------------------------------------------\n",
       "const           5.6503   0.6334   8.9206 0.0000  4.4088  6.8917\n",
       "Pclass         -1.2118   0.1630  -7.4329 0.0000 -1.5313 -0.8922\n",
       "Age            -0.0431   0.0082  -5.2505 0.0000 -0.0592 -0.0270\n",
       "SibSp          -0.3806   0.1249  -3.0478 0.0023 -0.6253 -0.1358\n",
       "Fare            0.0012   0.0024   0.4737 0.6357 -0.0036  0.0059\n",
       "Sex_male       -2.6236   0.2172 -12.0812 0.0000 -3.0493 -2.1980\n",
       "Embarked_Q     -0.8260   0.5982  -1.3807 0.1674 -1.9985  0.3465\n",
       "Embarked_S     -0.4130   0.2695  -1.5325 0.1254 -0.9412  0.1152\n",
       "===============================================================\n",
       "\n",
       "\"\"\""
      ]
     },
     "execution_count": 8,
     "metadata": {},
     "output_type": "execute_result"
    }
   ],
   "source": [
    "# summary\n",
    "result.summary2()"
   ]
  },
  {
   "cell_type": "markdown",
   "metadata": {},
   "source": [
    "## Your analysis here"
   ]
  },
  {
   "cell_type": "markdown",
   "metadata": {},
   "source": [
    "## Level - up\n",
    "\n",
    "Create a new model, this time only using those features you determined were influential based on your analysis in step 4."
   ]
  },
  {
   "cell_type": "code",
   "execution_count": 10,
   "metadata": {},
   "outputs": [
    {
     "name": "stdout",
     "output_type": "stream",
     "text": [
      "Optimization terminated successfully.\n",
      "         Current function value: 0.445882\n",
      "         Iterations 6\n"
     ]
    },
    {
     "data": {
      "text/html": [
       "<table class=\"simpletable\">\n",
       "<tr>\n",
       "        <td>Model:</td>              <td>Logit</td>       <td>No. Iterations:</td>   <td>6.0000</td> \n",
       "</tr>\n",
       "<tr>\n",
       "  <td>Dependent Variable:</td>     <td>Survived</td>     <td>Pseudo R-squared:</td>   <td>0.340</td> \n",
       "</tr>\n",
       "<tr>\n",
       "         <td>Date:</td>        <td>2019-09-22 00:01</td>       <td>AIC:</td>        <td>646.7193</td>\n",
       "</tr>\n",
       "<tr>\n",
       "   <td>No. Observations:</td>         <td>714</td>             <td>BIC:</td>        <td>669.5737</td>\n",
       "</tr>\n",
       "<tr>\n",
       "       <td>Df Model:</td>              <td>4</td>         <td>Log-Likelihood:</td>   <td>-318.36</td>\n",
       "</tr>\n",
       "<tr>\n",
       "     <td>Df Residuals:</td>           <td>709</td>           <td>LL-Null:</td>       <td>-482.26</td>\n",
       "</tr>\n",
       "<tr>\n",
       "      <td>Converged:</td>           <td>1.0000</td>           <td>Scale:</td>        <td>1.0000</td> \n",
       "</tr>\n",
       "</table>\n",
       "<table class=\"simpletable\">\n",
       "<tr>\n",
       "      <td></td>      <th>Coef.</th>  <th>Std.Err.</th>     <th>z</th>     <th>P>|z|</th> <th>[0.025</th>  <th>0.975]</th> \n",
       "</tr>\n",
       "<tr>\n",
       "  <th>const</th>    <td>5.6008</td>   <td>0.5434</td>   <td>10.3063</td> <td>0.0000</td> <td>4.5357</td>  <td>6.6660</td> \n",
       "</tr>\n",
       "<tr>\n",
       "  <th>Pclass</th>   <td>-1.3174</td>  <td>0.1409</td>   <td>-9.3499</td> <td>0.0000</td> <td>-1.5936</td> <td>-1.0412</td>\n",
       "</tr>\n",
       "<tr>\n",
       "  <th>Age</th>      <td>-0.0444</td>  <td>0.0082</td>   <td>-5.4425</td> <td>0.0000</td> <td>-0.0604</td> <td>-0.0284</td>\n",
       "</tr>\n",
       "<tr>\n",
       "  <th>SibSp</th>    <td>-0.3761</td>  <td>0.1211</td>   <td>-3.1064</td> <td>0.0019</td> <td>-0.6134</td> <td>-0.1388</td>\n",
       "</tr>\n",
       "<tr>\n",
       "  <th>Sex_male</th> <td>-2.6235</td>  <td>0.2145</td>  <td>-12.2293</td> <td>0.0000</td> <td>-3.0439</td> <td>-2.2030</td>\n",
       "</tr>\n",
       "</table>"
      ],
      "text/plain": [
       "<class 'statsmodels.iolib.summary2.Summary'>\n",
       "\"\"\"\n",
       "                        Results: Logit\n",
       "===============================================================\n",
       "Model:              Logit            No. Iterations:   6.0000  \n",
       "Dependent Variable: Survived         Pseudo R-squared: 0.340   \n",
       "Date:               2019-09-22 00:01 AIC:              646.7193\n",
       "No. Observations:   714              BIC:              669.5737\n",
       "Df Model:           4                Log-Likelihood:   -318.36 \n",
       "Df Residuals:       709              LL-Null:          -482.26 \n",
       "Converged:          1.0000           Scale:            1.0000  \n",
       "----------------------------------------------------------------\n",
       "            Coef.   Std.Err.     z      P>|z|    [0.025   0.975]\n",
       "----------------------------------------------------------------\n",
       "const       5.6008    0.5434   10.3063  0.0000   4.5357   6.6660\n",
       "Pclass     -1.3174    0.1409   -9.3499  0.0000  -1.5936  -1.0412\n",
       "Age        -0.0444    0.0082   -5.4425  0.0000  -0.0604  -0.0284\n",
       "SibSp      -0.3761    0.1211   -3.1064  0.0019  -0.6134  -0.1388\n",
       "Sex_male   -2.6235    0.2145  -12.2293  0.0000  -3.0439  -2.2030\n",
       "===============================================================\n",
       "\n",
       "\"\"\""
      ]
     },
     "execution_count": 10,
     "metadata": {},
     "output_type": "execute_result"
    }
   ],
   "source": [
    "# significant features only\n",
    "x_feats = [\"Pclass\", \"Sex\", \"Age\", \"SibSp\"]\n",
    "X = pd.get_dummies(df[x_feats], drop_first=True, dtype=float)\n",
    "y = df[\"Survived\"].astype(float)\n",
    "\n",
    "X = X.dropna()\n",
    "y = y[y.index.isin(X.index)]\n",
    "\n",
    "X = sm.add_constant(X)\n",
    "logit_model = sm.Logit(y, X)\n",
    "result = logit_model.fit()\n",
    "\n",
    "result.summary2()"
   ]
  },
  {
   "cell_type": "markdown",
   "metadata": {},
   "source": [
    "## Summary \n",
    "\n",
    "Well done! In this lab, you practiced using stats models to build a logistic regression model. You then reviewed interpreting the results, building upon your previous stats knowledge, similar to linear regression. Continue on to take a look at building logistic regression models in Sci-kit learn!"
   ]
  }
 ],
 "metadata": {
  "kernelspec": {
   "display_name": "Python 3",
   "language": "python",
   "name": "python3"
  },
  "language_info": {
   "codemirror_mode": {
    "name": "ipython",
    "version": 3
   },
   "file_extension": ".py",
   "mimetype": "text/x-python",
   "name": "python",
   "nbconvert_exporter": "python",
   "pygments_lexer": "ipython3",
   "version": "3.6.4"
  }
 },
 "nbformat": 4,
 "nbformat_minor": 2
}
